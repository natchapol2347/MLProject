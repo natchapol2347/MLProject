{
 "cells": [
  {
   "cell_type": "code",
   "execution_count": 2,
   "id": "c37b8a60",
   "metadata": {},
   "outputs": [],
   "source": [
    "\n",
    "import cv2\n",
    "import numpy as np\n",
    "import matplotlib.pyplot as plt\n",
    "%matplotlib inline\n",
    "import random"
   ]
  },
  {
   "cell_type": "code",
   "execution_count": 3,
   "id": "097866fe",
   "metadata": {},
   "outputs": [],
   "source": [
    "def get_paths_and_gts(partition_split_file):\n",
    "    \"\"\"\n",
    "    read a string like(which can be found in each line of words.txt file):\n",
    "    'a01-000u-00-00 ok 154 408 768 27 51 AT A'\n",
    "    and extract 'a01-000u-00-00': location of the image with sub-folders, to read it from the directories\n",
    "                'ok'            : processing status. ok means good, presumably.\n",
    "                'A'             : ground truth text\n",
    "\n",
    "    Then, pre-process using function defined above\n",
    "    \"\"\"\n",
    "    # a list to store paths to images and ground truth texts\n",
    "    paths_and_gts = []\n",
    "    \n",
    "    # open the file\n",
    "    with open(partition_split_file) as f:\n",
    "        # go through each line\n",
    "        for line in f:\n",
    "            # if a line is empty or commented with #, ignore that line\n",
    "            if not line or line.startswith('#'):\n",
    "                continue\n",
    "            \n",
    "            # in the text file, each line is seperated with '\\n', so `strip` first\n",
    "            # then string like 'a01-000u-00-00 ok 154 408 768 27 51 AT A' has to split to a list by spaces\n",
    "            line_split = line.strip().split(' ')\n",
    "            \n",
    "            # the first item of the list contains path information, so split that by '-'\n",
    "            directory_split = line_split[0].split('-')\n",
    "            data_location ='words'\n",
    "            # now use all the above and concatenate to a string to make a path to an image\n",
    "            image_location = f'{data_location}/{directory_split[0]}/{directory_split[0]}-{directory_split[1]}/{line_split[0]}.png'\n",
    "            \n",
    "            # in a string like 'a01-000u-00-00 ok 154 408 768 27 51 AT A', text from 9th split is the ground truth text.\n",
    "            gt_text = ' '.join(line_split[8:])\n",
    "            \n",
    "            # ignore a sample(image and ground truth text), if the ground truth has more than 16 letters\n",
    "            # if len(gt_text) > 16:\n",
    "                # continue\n",
    "            \n",
    "            # now, append the image location and ground truth text of that image as a list to \n",
    "            paths_and_gts.append([image_location, gt_text])\n",
    "    \n",
    "    return paths_and_gts"
   ]
  },
  {
   "cell_type": "code",
   "execution_count": 4,
   "id": "064ac553",
   "metadata": {},
   "outputs": [],
   "source": [
    "def add_padding(img, old_w, old_h, new_w, new_h):\n",
    "    h1, h2 = int((new_h - old_h) / 2), int((new_h - old_h) / 2) + old_h\n",
    "    w1, w2 = int((new_w - old_w) / 2), int((new_w - old_w) / 2) + old_w\n",
    "    img_pad = np.ones([new_h, new_w, 3]) * 255\n",
    "    img_pad[h1:h2, w1:w2, :] = img\n",
    "    return img_pad\n",
    "\n",
    "\n",
    "def fix_size(img, target_w, target_h):\n",
    "        h, w = img.shape[:2]\n",
    "        if w < target_w and h < target_h:\n",
    "            img = add_padding(img, w, h, target_w, target_h)\n",
    "        elif w >= target_w and h < target_h:\n",
    "            new_w = target_w\n",
    "            new_h = int(h * new_w / w)\n",
    "            new_img = cv2.resize(img, (new_w, new_h), interpolation=cv2.INTER_AREA)\n",
    "            img = add_padding(new_img, new_w, new_h, target_w, target_h)\n",
    "        elif w < target_w and h >= target_h:\n",
    "            new_h = target_h\n",
    "            new_w = int(w * new_h / h)\n",
    "            new_img = cv2.resize(img, (new_w, new_h), interpolation=cv2.INTER_AREA)\n",
    "            img = add_padding(new_img, new_w, new_h, target_w, target_h)\n",
    "        else:\n",
    "            \"\"\"w>=target_w and h>=target_h \"\"\"\n",
    "            ratio = max(w / target_w, h / target_h)\n",
    "            new_w = max(min(target_w, int(w / ratio)), 1)\n",
    "            new_h = max(min(target_h, int(h / ratio)), 1)\n",
    "            new_img = cv2.resize(img, (new_w, new_h), interpolation=cv2.INTER_AREA)\n",
    "            img = add_padding(new_img, new_w, new_h, target_w, target_h)\n",
    "        return img\n",
    "\n",
    "\n",
    "def preprocess(path, img_w, img_h):\n",
    "    \"\"\" Pre-processing image for predicting \"\"\"\n",
    "    try:\n",
    "        img = cv2.imread(path)\n",
    "        img = fix_size(img, img_w, img_h)\n",
    "\n",
    "        img = np.clip(img, 0, 255)\n",
    "        img = np.uint8(img)\n",
    "        img = cv2.cvtColor(img, cv2.COLOR_BGR2GRAY)\n",
    "\n",
    "        img = img.astype(np.float32)\n",
    "        img /= 255\n",
    "    except:\n",
    "        pass\n",
    "    return img"
   ]
  },
  {
   "cell_type": "code",
   "execution_count": 5,
   "id": "8cf61153",
   "metadata": {},
   "outputs": [
    {
     "name": "stdout",
     "output_type": "stream",
     "text": [
      "80\n"
     ]
    }
   ],
   "source": [
    "letters = [' ', '!', '\"', '#', '&', \"'\", '(', ')', '*', '+', ',', '-', '.', '/',\n",
    "           '0', '1', '2', '3', '4', '5', '6', '7', '8', '9', ':', ';', '?',\n",
    "           'A', 'B', 'C', 'D', 'E', 'F', 'G', 'H', 'I', 'J', 'K', 'L', 'M',\n",
    "           'N', 'O', 'P', 'Q', 'R', 'S', 'T', 'U', 'V', 'W', 'X', 'Y', 'Z',\n",
    "           'a', 'b', 'c', 'd', 'e', 'f', 'g', 'h', 'i', 'j', 'k', 'l', 'm',\n",
    "           'n', 'o', 'p', 'q', 'r', 's', 't', 'u', 'v', 'w', 'x', 'y', 'z']\n",
    "\n",
    "num_classes = len(letters) + 1\n",
    "print(num_classes)"
   ]
  },
  {
   "cell_type": "code",
   "execution_count": 6,
   "id": "bf9dfa45",
   "metadata": {},
   "outputs": [],
   "source": [
    "def text_to_labels(text):\n",
    "    return list(map(lambda x: letters.index(x), text))\n",
    "\n",
    "def labels_to_text(labels):\n",
    "    return ''.join(list(map(lambda x: letters[int(x)], labels)))"
   ]
  },
  {
   "cell_type": "code",
   "execution_count": 7,
   "id": "1ba90fad",
   "metadata": {},
   "outputs": [
    {
     "data": {
      "text/plain": [
       "(20768, 14754, 15119)"
      ]
     },
     "execution_count": 7,
     "metadata": {},
     "output_type": "execute_result"
    }
   ],
   "source": [
    "train_files = get_paths_and_gts('C:/Users/USER/MLProject/words/words.txt')\n",
    "valid_files = get_paths_and_gts('C:/Users/USER/MLProject/words/valid.txt')\n",
    "test_files = get_paths_and_gts('C:/Users/USER/MLProject/words/test.txt')\n",
    "len(train_files), len(valid_files), len(test_files)"
   ]
  },
  {
   "cell_type": "code",
   "execution_count": 8,
   "id": "738e2e2d",
   "metadata": {},
   "outputs": [],
   "source": [
    "for index, (img_loc, gt_text) in enumerate(train_files):\n",
    "    if 'r06-022-03-05' in img_loc:\n",
    "        print(index)\n",
    "    else:\n",
    "        continue"
   ]
  },
  {
   "cell_type": "code",
   "execution_count": 9,
   "id": "400ac103",
   "metadata": {},
   "outputs": [
    {
     "data": {
      "text/plain": [
       "['words/a01/a01-128u/a01-128u-05-06.png', 'Government']"
      ]
     },
     "execution_count": 9,
     "metadata": {},
     "output_type": "execute_result"
    }
   ],
   "source": [
    "train_files[4576]"
   ]
  },
  {
   "cell_type": "code",
   "execution_count": 10,
   "id": "49573e09",
   "metadata": {},
   "outputs": [
    {
     "name": "stdout",
     "output_type": "stream",
     "text": [
      "Labour\n"
     ]
    },
    {
     "data": {
      "text/plain": [
       "<matplotlib.image.AxesImage at 0x2ae3317e9b0>"
      ]
     },
     "execution_count": 10,
     "metadata": {},
     "output_type": "execute_result"
    },
    {
     "data": {
      "image/png": "[encoded data removed]",
      "text/plain": [
       "<Figure size 432x288 with 1 Axes>"
      ]
     },
     "metadata": {
      "needs_background": "light"
     },
     "output_type": "display_data"
    }
   ],
   "source": [
    "\n",
    "i = 21\n",
    "print(train_files[i][1])\n",
    "an_img = preprocess(path=train_files[i][0], img_w=128, img_h=64)\n",
    "plt.imshow(an_img.T)"
   ]
  },
  {
   "cell_type": "code",
   "execution_count": 11,
   "id": "592c504e",
   "metadata": {},
   "outputs": [],
   "source": [
    "class TextImageGenerator:\n",
    "    \n",
    "    def __init__(self, data,\n",
    "                 img_w,\n",
    "                 img_h, \n",
    "                 batch_size, \n",
    "                 i_len,\n",
    "                 max_text_len):\n",
    "        \n",
    "        self.img_h = img_h\n",
    "        self.img_w = img_w\n",
    "        self.batch_size = batch_size\n",
    "        self.max_text_len = max_text_len\n",
    "        self.samples = data\n",
    "        self.n = len(self.samples)\n",
    "        self.i_len = i_len\n",
    "        self.indexes = list(range(self.n))\n",
    "        self.cur_index = 0\n",
    "        \n",
    "    def build_data(self):\n",
    "        self.imgs = np.zeros((self.n, self.img_h, self.img_w))\n",
    "        self.texts = []\n",
    "        for i, (img_filepath, text) in enumerate(self.samples):\n",
    "            img = preprocess(img_filepath, self.img_w, self.img_h)\n",
    "            self.imgs[i, :, :] = img\n",
    "            self.texts.append(text)\n",
    "    \n",
    "    def next_sample(self):\n",
    "        self.cur_index += 1\n",
    "        if self.cur_index >= self.n:\n",
    "            self.cur_index = 0\n",
    "            random.shuffle(self.indexes)\n",
    "        return self.imgs[self.indexes[self.cur_index]], self.texts[self.indexes[self.cur_index]]\n",
    "    \n",
    "    def next_batch(self):\n",
    "        while True:\n",
    "            # width and height are backwards from typical Keras convention\n",
    "            # because width is the time dimension when it gets fed into the RNN\n",
    "            X_data = np.ones([self.batch_size, self.img_w, self.img_h, 1])\n",
    "            Y_data = np.zeros([self.batch_size, self.max_text_len])\n",
    "            input_length = np.ones((self.batch_size, 1)) * self.i_len\n",
    "            label_length = np.zeros((self.batch_size, 1))\n",
    "                                   \n",
    "            for i in range(self.batch_size):\n",
    "                img, text = self.next_sample()\n",
    "                img = img.T\n",
    "                img = np.expand_dims(img, -1)\n",
    "                X_data[i] = img\n",
    "                Y_data[i, :len(text)] = text_to_labels(text)\n",
    "                label_length[i] = len(text)\n",
    "                \n",
    "            inputs = [X_data, Y_data, input_length, label_length]\n",
    "            outputs = np.zeros([self.batch_size])\n",
    "            yield (inputs, outputs)"
   ]
  },
  {
   "cell_type": "code",
   "execution_count": 12,
   "id": "2bc1b77d",
   "metadata": {},
   "outputs": [],
   "source": [
    "batch_size = 64\n",
    "input_length = 30\n",
    "max_text_len = 16\n",
    "img_w = 128\n",
    "img_h = 64"
   ]
  },
  {
   "cell_type": "code",
   "execution_count": 13,
   "id": "39ebc67b",
   "metadata": {},
   "outputs": [],
   "source": [
    "train_data = TextImageGenerator(train_files, img_w, img_h, batch_size, input_length, max_text_len)\n",
    "train_data.build_data()"
   ]
  },
  {
   "cell_type": "code",
   "execution_count": 14,
   "id": "f8142ba4",
   "metadata": {
    "scrolled": true
   },
   "outputs": [
    {
     "data": {
      "text/plain": [
       "(20768, 64, 128)"
      ]
     },
     "execution_count": 14,
     "metadata": {},
     "output_type": "execute_result"
    }
   ],
   "source": [
    "train_data.imgs.shape"
   ]
  },
  {
   "cell_type": "code",
   "execution_count": 15,
   "id": "80549ec1",
   "metadata": {},
   "outputs": [],
   "source": [
    "validation_data = TextImageGenerator(valid_files, img_w, img_h, batch_size, input_length, max_text_len)\n",
    "validation_data.build_data()"
   ]
  },
  {
   "cell_type": "code",
   "execution_count": 16,
   "id": "2a4eb70a",
   "metadata": {},
   "outputs": [
    {
     "data": {
      "text/plain": [
       "'channels_last'"
      ]
     },
     "execution_count": 16,
     "metadata": {},
     "output_type": "execute_result"
    }
   ],
   "source": [
    "from tensorflow.keras import layers\n",
    "from tensorflow.keras import Model\n",
    "from tensorflow.keras import backend as tf_keras_backend\n",
    "\n",
    "tf_keras_backend.set_image_data_format('channels_last')\n",
    "tf_keras_backend.image_data_format()\n",
    "     "
   ]
  },
  {
   "cell_type": "code",
   "execution_count": 17,
   "id": "cddca74e",
   "metadata": {},
   "outputs": [
    {
     "name": "stdout",
     "output_type": "stream",
     "text": [
      "Model: \"model\"\n",
      "__________________________________________________________________________________________________\n",
      " Layer (type)                   Output Shape         Param #     Connected to                     \n",
      "==================================================================================================\n",
      " the_input (InputLayer)         [(None, 128, 64, 1)  0           []                               \n",
      "                                ]                                                                 \n",
      "                                                                                                  \n",
      " conv1 (Conv2D)                 (None, 128, 64, 64)  640         ['the_input[0][0]']              \n",
      "                                                                                                  \n",
      " batch_normalization (BatchNorm  (None, 128, 64, 64)  256        ['conv1[0][0]']                  \n",
      " alization)                                                                                       \n",
      "                                                                                                  \n",
      " activation (Activation)        (None, 128, 64, 64)  0           ['batch_normalization[0][0]']    \n",
      "                                                                                                  \n",
      " max1 (MaxPooling2D)            (None, 64, 32, 64)   0           ['activation[0][0]']             \n",
      "                                                                                                  \n",
      " conv2 (Conv2D)                 (None, 64, 32, 128)  73856       ['max1[0][0]']                   \n",
      "                                                                                                  \n",
      " batch_normalization_1 (BatchNo  (None, 64, 32, 128)  512        ['conv2[0][0]']                  \n",
      " rmalization)                                                                                     \n",
      "                                                                                                  \n",
      " activation_1 (Activation)      (None, 64, 32, 128)  0           ['batch_normalization_1[0][0]']  \n",
      "                                                                                                  \n",
      " max2 (MaxPooling2D)            (None, 32, 16, 128)  0           ['activation_1[0][0]']           \n",
      "                                                                                                  \n",
      " conv3 (Conv2D)                 (None, 32, 16, 256)  295168      ['max2[0][0]']                   \n",
      "                                                                                                  \n",
      " batch_normalization_2 (BatchNo  (None, 32, 16, 256)  1024       ['conv3[0][0]']                  \n",
      " rmalization)                                                                                     \n",
      "                                                                                                  \n",
      " activation_2 (Activation)      (None, 32, 16, 256)  0           ['batch_normalization_2[0][0]']  \n",
      "                                                                                                  \n",
      " conv4 (Conv2D)                 (None, 32, 16, 256)  590080      ['activation_2[0][0]']           \n",
      "                                                                                                  \n",
      " batch_normalization_3 (BatchNo  (None, 32, 16, 256)  1024       ['conv4[0][0]']                  \n",
      " rmalization)                                                                                     \n",
      "                                                                                                  \n",
      " activation_3 (Activation)      (None, 32, 16, 256)  0           ['batch_normalization_3[0][0]']  \n",
      "                                                                                                  \n",
      " max3 (MaxPooling2D)            (None, 32, 8, 256)   0           ['activation_3[0][0]']           \n",
      "                                                                                                  \n",
      " conv5 (Conv2D)                 (None, 32, 8, 512)   1180160     ['max3[0][0]']                   \n",
      "                                                                                                  \n",
      " batch_normalization_4 (BatchNo  (None, 32, 8, 512)  2048        ['conv5[0][0]']                  \n",
      " rmalization)                                                                                     \n",
      "                                                                                                  \n",
      " activation_4 (Activation)      (None, 32, 8, 512)   0           ['batch_normalization_4[0][0]']  \n",
      "                                                                                                  \n",
      " conv6 (Conv2D)                 (None, 32, 8, 512)   2359808     ['activation_4[0][0]']           \n",
      "                                                                                                  \n",
      " batch_normalization_5 (BatchNo  (None, 32, 8, 512)  2048        ['conv6[0][0]']                  \n",
      " rmalization)                                                                                     \n",
      "                                                                                                  \n",
      " activation_5 (Activation)      (None, 32, 8, 512)   0           ['batch_normalization_5[0][0]']  \n",
      "                                                                                                  \n",
      " max4 (MaxPooling2D)            (None, 32, 4, 512)   0           ['activation_5[0][0]']           \n",
      "                                                                                                  \n",
      " con7 (Conv2D)                  (None, 32, 4, 512)   1049088     ['max4[0][0]']                   \n",
      "                                                                                                  \n",
      " batch_normalization_6 (BatchNo  (None, 32, 4, 512)  2048        ['con7[0][0]']                   \n",
      " rmalization)                                                                                     \n",
      "                                                                                                  \n",
      " activation_6 (Activation)      (None, 32, 4, 512)   0           ['batch_normalization_6[0][0]']  \n",
      "                                                                                                  \n",
      " reshape (Reshape)              (None, 32, 2048)     0           ['activation_6[0][0]']           \n",
      "                                                                                                  \n",
      " dense1 (Dense)                 (None, 32, 64)       131136      ['reshape[0][0]']                \n",
      "                                                                                                  \n",
      " gru1_b (GRU)                   (None, 32, 256)      247296      ['dense1[0][0]']                 \n",
      "                                                                                                  \n",
      " gru1 (GRU)                     (None, 32, 256)      247296      ['dense1[0][0]']                 \n",
      "                                                                                                  \n",
      " lambda (Lambda)                (None, 32, 256)      0           ['gru1_b[0][0]']                 \n",
      "                                                                                                  \n",
      " add (Add)                      (None, 32, 256)      0           ['gru1[0][0]',                   \n",
      "                                                                  'lambda[0][0]']                 \n",
      "                                                                                                  \n",
      " batch_normalization_7 (BatchNo  (None, 32, 256)     1024        ['add[0][0]']                    \n",
      " rmalization)                                                                                     \n",
      "                                                                                                  \n",
      " gru2_b (GRU)                   (None, 32, 256)      394752      ['batch_normalization_7[0][0]']  \n",
      "                                                                                                  \n",
      " gru2 (GRU)                     (None, 32, 256)      394752      ['batch_normalization_7[0][0]']  \n",
      "                                                                                                  \n"
     ]
    },
    {
     "name": "stdout",
     "output_type": "stream",
     "text": [
      " lambda_1 (Lambda)              (None, 32, 256)      0           ['gru2_b[0][0]']                 \n",
      "                                                                                                  \n",
      " concatenate (Concatenate)      (None, 32, 512)      0           ['gru2[0][0]',                   \n",
      "                                                                  'lambda_1[0][0]']               \n",
      "                                                                                                  \n",
      " batch_normalization_8 (BatchNo  (None, 32, 512)     2048        ['concatenate[0][0]']            \n",
      " rmalization)                                                                                     \n",
      "                                                                                                  \n",
      " dense2 (Dense)                 (None, 32, 80)       41040       ['batch_normalization_8[0][0]']  \n",
      "                                                                                                  \n",
      " softmax (Activation)           (None, 32, 80)       0           ['dense2[0][0]']                 \n",
      "                                                                                                  \n",
      " the_labels (InputLayer)        [(None, 16)]         0           []                               \n",
      "                                                                                                  \n",
      " input_length (InputLayer)      [(None, 1)]          0           []                               \n",
      "                                                                                                  \n",
      " label_length (InputLayer)      [(None, 1)]          0           []                               \n",
      "                                                                                                  \n",
      " ctc (Lambda)                   (None, 1)            0           ['softmax[0][0]',                \n",
      "                                                                  'the_labels[0][0]',             \n",
      "                                                                  'input_length[0][0]',           \n",
      "                                                                  'label_length[0][0]']           \n",
      "                                                                                                  \n",
      "==================================================================================================\n",
      "Total params: 7,017,104\n",
      "Trainable params: 7,011,088\n",
      "Non-trainable params: 6,016\n",
      "__________________________________________________________________________________________________\n"
     ]
    }
   ],
   "source": [
    "input_data = layers.Input(name='the_input', shape=(128,64,1), dtype='float32')  # (None, 128, 64, 1)\n",
    "\n",
    "# Convolution layer (VGG)\n",
    "iam_layers = layers.Conv2D(64, (3, 3), padding='same', name='conv1', kernel_initializer='he_normal')(input_data)\n",
    "iam_layers = layers.BatchNormalization()(iam_layers)\n",
    "iam_layers = layers.Activation('relu')(iam_layers)\n",
    "iam_layers = layers.MaxPooling2D(pool_size=(2, 2), name='max1')(iam_layers)  # (None,64, 32, 64)\n",
    "\n",
    "iam_layers = layers.Conv2D(128, (3, 3), padding='same', name='conv2', kernel_initializer='he_normal')(iam_layers)\n",
    "iam_layers = layers.BatchNormalization()(iam_layers)\n",
    "iam_layers = layers.Activation('relu')(iam_layers)\n",
    "iam_layers = layers.MaxPooling2D(pool_size=(2, 2), name='max2')(iam_layers)\n",
    "\n",
    "iam_layers = layers.Conv2D(256, (3, 3), padding='same', name='conv3', kernel_initializer='he_normal')(iam_layers)\n",
    "iam_layers = layers.BatchNormalization()(iam_layers)\n",
    "iam_layers = layers.Activation('relu')(iam_layers)\n",
    "iam_layers = layers.Conv2D(256, (3, 3), padding='same', name='conv4', kernel_initializer='he_normal')(iam_layers)\n",
    "iam_layers = layers.BatchNormalization()(iam_layers)\n",
    "iam_layers = layers.Activation('relu')(iam_layers)\n",
    "iam_layers = layers.MaxPooling2D(pool_size=(1, 2), name='max3')(iam_layers)  # (None, 32, 8, 256)\n",
    "\n",
    "iam_layers = layers.Conv2D(512, (3, 3), padding='same', name='conv5', kernel_initializer='he_normal')(iam_layers)\n",
    "iam_layers = layers.BatchNormalization()(iam_layers)\n",
    "iam_layers = layers.Activation('relu')(iam_layers)\n",
    "iam_layers = layers.Conv2D(512, (3, 3), padding='same', name='conv6')(iam_layers)\n",
    "iam_layers = layers.BatchNormalization()(iam_layers)\n",
    "iam_layers = layers.Activation('relu')(iam_layers)\n",
    "iam_layers = layers.MaxPooling2D(pool_size=(1, 2), name='max4')(iam_layers)\n",
    "\n",
    "iam_layers = layers.Conv2D(512, (2, 2), padding='same', kernel_initializer='he_normal', name='con7')(iam_layers)\n",
    "iam_layers = layers.BatchNormalization()(iam_layers)\n",
    "iam_layers = layers.Activation('relu')(iam_layers)\n",
    "\n",
    "# CNN to RNN\n",
    "iam_layers = layers.Reshape(target_shape=((32, 2048)), name='reshape')(iam_layers)\n",
    "iam_layers = layers.Dense(64, activation='relu', kernel_initializer='he_normal', name='dense1')(iam_layers)\n",
    "\n",
    "# RNN layer\n",
    "gru_1 = layers.GRU(256, return_sequences=True, kernel_initializer='he_normal', name='gru1')(iam_layers)\n",
    "gru_1b = layers.GRU(256, return_sequences=True, go_backwards=True, kernel_initializer='he_normal', name='gru1_b')(iam_layers)\n",
    "reversed_gru_1b = layers.Lambda(lambda inputTensor: tf_keras_backend.reverse(inputTensor, axes=1)) (gru_1b)\n",
    "\n",
    "gru1_merged = layers.add([gru_1, reversed_gru_1b])\n",
    "gru1_merged = layers.BatchNormalization()(gru1_merged)\n",
    "\n",
    "gru_2 = layers.GRU(256, return_sequences=True, kernel_initializer='he_normal', name='gru2')(gru1_merged)\n",
    "gru_2b = layers.GRU(256, return_sequences=True, go_backwards=True, kernel_initializer='he_normal', name='gru2_b')(gru1_merged)\n",
    "reversed_gru_2b= layers.Lambda(lambda inputTensor: tf_keras_backend.reverse(inputTensor, axes=1)) (gru_2b)\n",
    "\n",
    "gru2_merged = layers.concatenate([gru_2, reversed_gru_2b])\n",
    "gru2_merged = layers.BatchNormalization()(gru2_merged)\n",
    "\n",
    "# transforms RNN output to character activations:\n",
    "iam_layers = layers.Dense(80, kernel_initializer='he_normal', name='dense2')(gru2_merged)\n",
    "iam_outputs = layers.Activation('softmax', name='softmax')(iam_layers)\n",
    "\n",
    "labels = layers.Input(name='the_labels', shape=[16], dtype='float32')\n",
    "input_length = layers.Input(name='input_length', shape=[1], dtype='int64')\n",
    "label_length = layers.Input(name='label_length', shape=[1], dtype='int64')\n",
    "\n",
    "\n",
    "def ctc_lambda_func(args):\n",
    "    y_pred, labels, input_length, label_length = args\n",
    "    # the 2 is critical here since the first couple outputs of the RNN\n",
    "    # tend to be garbage:\n",
    "    y_pred = y_pred[:, 2:, :]\n",
    "    return tf_keras_backend.ctc_batch_cost(labels, y_pred, input_length, label_length)\n",
    "\n",
    "\n",
    "# loss function\n",
    "loss_out = layers.Lambda(ctc_lambda_func, output_shape=(1,), name='ctc')([iam_outputs, labels, input_length, label_length])\n",
    "\n",
    "model = Model(inputs=[input_data, labels, input_length, label_length], outputs=loss_out)\n",
    "model.summary()"
   ]
  },
  {
   "cell_type": "code",
   "execution_count": 18,
   "id": "17cf17ea",
   "metadata": {},
   "outputs": [],
   "source": [
    "model.compile(loss={'ctc': lambda y_true, y_pred: y_pred}, optimizer = 'adam')\n",
    "# you will know, why there aren't any metrics"
   ]
  },
  {
   "cell_type": "code",
   "execution_count": 19,
   "id": "5adc8939",
   "metadata": {},
   "outputs": [],
   "source": [
    "import time\n",
    "from tensorflow.keras.callbacks import Callback\n",
    "from datetime import datetime\n",
    "\n",
    "class EpochTimeHistory(Callback):\n",
    "    \"\"\"\n",
    "    a custom callback to print the time(in minutes, to console) each epoch took during.\n",
    "    \"\"\"\n",
    "    def on_train_begin(self, logs={}):\n",
    "        self.train_epoch_times = []\n",
    "        self.valid_epoch_times = []\n",
    "    \n",
    "    def on_epoch_begin(self, epoch, logs={}):\n",
    "        self.epoch_time_start = time.time()\n",
    "\n",
    "    def on_epoch_end(self, epoch, logs={}):\n",
    "            cur_epoch_time = round((time.time() - self.epoch_time_start)/60, 4)\n",
    "            self.train_epoch_times.append(cur_epoch_time )\n",
    "            # cur_epoch_time = datetime.strptime(str(cur_epoch_time), \"%H:%M:%S.%f\").strftime('%H:%M:%S')\n",
    "            self.train_epoch_times.append(cur_epoch_time)\n",
    "            print(\" ;epoch {0} took {1} minutes.\".format(epoch+1, cur_epoch_time))\n",
    "    \n",
    "    ## functions used below are for recording validation times\n",
    "    def on_test_begin(self, logs={}):\n",
    "        self.test_time_start = time.time()\n",
    "\n",
    "    def on_test_end(self, logs={}):\n",
    "        cur_test_time = round((time.time() - self.test_time_start)/60, 4)\n",
    "        self.valid_epoch_times.append(cur_test_time)\n",
    "        # cur_test_time = datetime.strptime(str(cur_test_time), \"%H:%M:%S.%f\").strftime('%H:%M:%S')\n",
    "        print(\" ;validation took {0} minutes.\".format(cur_test_time))\n",
    "     "
   ]
  },
  {
   "cell_type": "code",
   "execution_count": 20,
   "id": "73c5027e",
   "metadata": {},
   "outputs": [],
   "source": [
    "from tensorflow.keras.callbacks import ModelCheckpoint, EarlyStopping\n",
    "\n",
    "model_save_cb = ModelCheckpoint(filepath='/content/drive/My Drive/Colab Notebooks/OCR on IAM/data/gru-weights-epoch{epoch:02d}-val_loss{val_loss:.3f}.h5',\n",
    "                                verbose=1, save_best_only=False, monitor='val_loss', save_weights_only=False)\n",
    "earlystop = EarlyStopping(monitor='val_loss', min_delta=0, patience=10, verbose=0, mode='min')\n",
    "# reduce_learning_rate_cb = ReduceLROnPlateau(monitor='loss', factor=0.1, patience=2, cooldown=2, min_lr=0.00001, verbose=1)\n",
    "epoch_times = EpochTimeHistory()"
   ]
  },
  {
   "cell_type": "code",
   "execution_count": 21,
   "id": "b8998821",
   "metadata": {},
   "outputs": [
    {
     "data": {
      "text/plain": [
       "(64, 20768, 14754)"
      ]
     },
     "execution_count": 21,
     "metadata": {},
     "output_type": "execute_result"
    }
   ],
   "source": [
    "batch_size, train_data.n, validation_data.n"
   ]
  },
  {
   "cell_type": "code",
   "execution_count": 27,
   "id": "8a3144a0",
   "metadata": {},
   "outputs": [
    {
     "name": "stdout",
     "output_type": "stream",
     "text": [
      "much\n"
     ]
    },
    {
     "data": {
      "text/plain": [
       "<matplotlib.image.AxesImage at 0x2aedfd565f0>"
      ]
     },
     "execution_count": 27,
     "metadata": {},
     "output_type": "execute_result"
    },
    {
     "data": {
      "image/png": "[encoded data removed]",
      "text/plain": [
       "<Figure size 216x432 with 1 Axes>"
      ]
     },
     "metadata": {
      "needs_background": "light"
     },
     "output_type": "display_data"
    }
   ],
   "source": [
    "import seaborn as sns\n",
    "sns.reset_orig()\n",
    "plt.figure(figsize=(3, 6))\n",
    "i = 1\n",
    "print(test_files[i][1])\n",
    "temp_processed_image = preprocess(path=test_files[i][0], img_w=128, img_h=64)\n",
    "plt.imshow(temp_processed_image.T)"
   ]
  },
  {
   "cell_type": "code",
   "execution_count": 28,
   "id": "91b8de2e",
   "metadata": {},
   "outputs": [],
   "source": [
    "test_images_processed = []\n",
    "original_test_texts = []\n",
    "for _, (test_image_path, original_test_text) in enumerate(test_files):\n",
    "     temp_processed_image = preprocess(path=test_image_path, img_w=128, img_h=64)\n",
    "     test_images_processed.append(temp_processed_image.T)\n",
    "     original_test_texts.append(original_test_text)\n",
    "     "
   ]
  },
  {
   "cell_type": "code",
   "execution_count": 29,
   "id": "a10402ab",
   "metadata": {},
   "outputs": [
    {
     "name": "stdout",
     "output_type": "stream",
     "text": [
      "15119\n",
      "15119\n",
      "15119\n"
     ]
    }
   ],
   "source": [
    "print(len(test_files))\n",
    "print(len(test_images_processed))\n",
    "print(len(original_test_texts))"
   ]
  },
  {
   "cell_type": "code",
   "execution_count": 30,
   "id": "2420f68b",
   "metadata": {},
   "outputs": [
    {
     "data": {
      "text/plain": [
       "(15119, 128, 64)"
      ]
     },
     "execution_count": 30,
     "metadata": {},
     "output_type": "execute_result"
    }
   ],
   "source": [
    "test_images_processed = np.array(test_images_processed)\n",
    "test_images_processed.shape"
   ]
  },
  {
   "cell_type": "code",
   "execution_count": 32,
   "id": "89ee9239",
   "metadata": {},
   "outputs": [
    {
     "data": {
      "text/plain": [
       "(15119, 128, 64, 1)"
      ]
     },
     "execution_count": 32,
     "metadata": {},
     "output_type": "execute_result"
    }
   ],
   "source": [
    "test_images_processed = test_images_processed.reshape(15119, 128, 64, 1)\n",
    "test_images_processed.shape"
   ]
  },
  {
   "cell_type": "code",
   "execution_count": 33,
   "id": "a30bf55f",
   "metadata": {},
   "outputs": [
    {
     "name": "stdout",
     "output_type": "stream",
     "text": [
      "much\n"
     ]
    },
    {
     "data": {
      "text/plain": [
       "<matplotlib.image.AxesImage at 0x2aedfe06380>"
      ]
     },
     "execution_count": 33,
     "metadata": {},
     "output_type": "execute_result"
    },
    {
     "data": {
      "image/png": "[encoded data removed]",
      "text/plain": [
       "<Figure size 216x432 with 1 Axes>"
      ]
     },
     "metadata": {
      "needs_background": "light"
     },
     "output_type": "display_data"
    }
   ],
   "source": [
    "sns.reset_orig()\n",
    "plt.figure(figsize=(3, 6))\n",
    "i = 1\n",
    "print(test_files[i][1])\n",
    "plt.imshow(test_images_processed[i].reshape(128,64))"
   ]
  },
  {
   "cell_type": "code",
   "execution_count": 34,
   "id": "58b18765",
   "metadata": {},
   "outputs": [
    {
     "name": "stdout",
     "output_type": "stream",
     "text": [
      "Model: \"model_2\"\n",
      "__________________________________________________________________________________________________\n",
      " Layer (type)                   Output Shape         Param #     Connected to                     \n",
      "==================================================================================================\n",
      " the_input (InputLayer)         [(None, 128, 64, 1)  0           []                               \n",
      "                                ]                                                                 \n",
      "                                                                                                  \n",
      " conv1 (Conv2D)                 (None, 128, 64, 64)  640         ['the_input[0][0]']              \n",
      "                                                                                                  \n",
      " batch_normalization (BatchNorm  (None, 128, 64, 64)  256        ['conv1[0][0]']                  \n",
      " alization)                                                                                       \n",
      "                                                                                                  \n",
      " activation (Activation)        (None, 128, 64, 64)  0           ['batch_normalization[0][0]']    \n",
      "                                                                                                  \n",
      " max1 (MaxPooling2D)            (None, 64, 32, 64)   0           ['activation[0][0]']             \n",
      "                                                                                                  \n",
      " conv2 (Conv2D)                 (None, 64, 32, 128)  73856       ['max1[0][0]']                   \n",
      "                                                                                                  \n",
      " batch_normalization_1 (BatchNo  (None, 64, 32, 128)  512        ['conv2[0][0]']                  \n",
      " rmalization)                                                                                     \n",
      "                                                                                                  \n",
      " activation_1 (Activation)      (None, 64, 32, 128)  0           ['batch_normalization_1[0][0]']  \n",
      "                                                                                                  \n",
      " max2 (MaxPooling2D)            (None, 32, 16, 128)  0           ['activation_1[0][0]']           \n",
      "                                                                                                  \n",
      " conv3 (Conv2D)                 (None, 32, 16, 256)  295168      ['max2[0][0]']                   \n",
      "                                                                                                  \n",
      " batch_normalization_2 (BatchNo  (None, 32, 16, 256)  1024       ['conv3[0][0]']                  \n",
      " rmalization)                                                                                     \n",
      "                                                                                                  \n",
      " activation_2 (Activation)      (None, 32, 16, 256)  0           ['batch_normalization_2[0][0]']  \n",
      "                                                                                                  \n",
      " conv4 (Conv2D)                 (None, 32, 16, 256)  590080      ['activation_2[0][0]']           \n",
      "                                                                                                  \n",
      " batch_normalization_3 (BatchNo  (None, 32, 16, 256)  1024       ['conv4[0][0]']                  \n",
      " rmalization)                                                                                     \n",
      "                                                                                                  \n",
      " activation_3 (Activation)      (None, 32, 16, 256)  0           ['batch_normalization_3[0][0]']  \n",
      "                                                                                                  \n",
      " max3 (MaxPooling2D)            (None, 32, 8, 256)   0           ['activation_3[0][0]']           \n",
      "                                                                                                  \n",
      " conv5 (Conv2D)                 (None, 32, 8, 512)   1180160     ['max3[0][0]']                   \n",
      "                                                                                                  \n",
      " batch_normalization_4 (BatchNo  (None, 32, 8, 512)  2048        ['conv5[0][0]']                  \n",
      " rmalization)                                                                                     \n",
      "                                                                                                  \n",
      " activation_4 (Activation)      (None, 32, 8, 512)   0           ['batch_normalization_4[0][0]']  \n",
      "                                                                                                  \n",
      " conv6 (Conv2D)                 (None, 32, 8, 512)   2359808     ['activation_4[0][0]']           \n",
      "                                                                                                  \n",
      " batch_normalization_5 (BatchNo  (None, 32, 8, 512)  2048        ['conv6[0][0]']                  \n",
      " rmalization)                                                                                     \n",
      "                                                                                                  \n",
      " activation_5 (Activation)      (None, 32, 8, 512)   0           ['batch_normalization_5[0][0]']  \n",
      "                                                                                                  \n",
      " max4 (MaxPooling2D)            (None, 32, 4, 512)   0           ['activation_5[0][0]']           \n",
      "                                                                                                  \n",
      " con7 (Conv2D)                  (None, 32, 4, 512)   1049088     ['max4[0][0]']                   \n",
      "                                                                                                  \n",
      " batch_normalization_6 (BatchNo  (None, 32, 4, 512)  2048        ['con7[0][0]']                   \n",
      " rmalization)                                                                                     \n",
      "                                                                                                  \n",
      " activation_6 (Activation)      (None, 32, 4, 512)   0           ['batch_normalization_6[0][0]']  \n",
      "                                                                                                  \n",
      " reshape (Reshape)              (None, 32, 2048)     0           ['activation_6[0][0]']           \n",
      "                                                                                                  \n",
      " dense1 (Dense)                 (None, 32, 64)       131136      ['reshape[0][0]']                \n",
      "                                                                                                  \n",
      " gru1_b (GRU)                   (None, 32, 256)      247296      ['dense1[0][0]']                 \n",
      "                                                                                                  \n",
      " gru1 (GRU)                     (None, 32, 256)      247296      ['dense1[0][0]']                 \n",
      "                                                                                                  \n",
      " lambda (Lambda)                (None, 32, 256)      0           ['gru1_b[0][0]']                 \n",
      "                                                                                                  \n",
      " add (Add)                      (None, 32, 256)      0           ['gru1[0][0]',                   \n",
      "                                                                  'lambda[0][0]']                 \n",
      "                                                                                                  \n",
      " batch_normalization_7 (BatchNo  (None, 32, 256)     1024        ['add[0][0]']                    \n",
      " rmalization)                                                                                     \n",
      "                                                                                                  \n",
      " gru2_b (GRU)                   (None, 32, 256)      394752      ['batch_normalization_7[0][0]']  \n",
      "                                                                                                  \n",
      " gru2 (GRU)                     (None, 32, 256)      394752      ['batch_normalization_7[0][0]']  \n",
      "                                                                                                  \n"
     ]
    },
    {
     "name": "stdout",
     "output_type": "stream",
     "text": [
      " lambda_1 (Lambda)              (None, 32, 256)      0           ['gru2_b[0][0]']                 \n",
      "                                                                                                  \n",
      " concatenate (Concatenate)      (None, 32, 512)      0           ['gru2[0][0]',                   \n",
      "                                                                  'lambda_1[0][0]']               \n",
      "                                                                                                  \n",
      " batch_normalization_8 (BatchNo  (None, 32, 512)     2048        ['concatenate[0][0]']            \n",
      " rmalization)                                                                                     \n",
      "                                                                                                  \n",
      " dense2 (Dense)                 (None, 32, 80)       41040       ['batch_normalization_8[0][0]']  \n",
      "                                                                                                  \n",
      " softmax (Activation)           (None, 32, 80)       0           ['dense2[0][0]']                 \n",
      "                                                                                                  \n",
      "==================================================================================================\n",
      "Total params: 7,017,104\n",
      "Trainable params: 7,011,088\n",
      "Non-trainable params: 6,016\n",
      "__________________________________________________________________________________________________\n"
     ]
    }
   ],
   "source": [
    "iam_model_pred = Model(inputs=input_data, outputs=iam_outputs)\n",
    "iam_model_pred.summary()"
   ]
  },
  {
   "cell_type": "code",
   "execution_count": 35,
   "id": "be52caf6",
   "metadata": {},
   "outputs": [],
   "source": [
    "iam_model_pred.load_weights(filepath='my_handwriting_model.h5')"
   ]
  },
  {
   "cell_type": "code",
   "execution_count": 36,
   "id": "f28e4598",
   "metadata": {},
   "outputs": [
    {
     "name": "stdout",
     "output_type": "stream",
     "text": [
      "473/473 [==============================] - 446s 937ms/step\n"
     ]
    },
    {
     "data": {
      "text/plain": [
       "(15119, 32, 80)"
      ]
     },
     "execution_count": 36,
     "metadata": {},
     "output_type": "execute_result"
    }
   ],
   "source": [
    "test_predictions_encoded = iam_model_pred.predict(x=test_images_processed)\n",
    "test_predictions_encoded.shape"
   ]
  },
  {
   "cell_type": "code",
   "execution_count": 37,
   "id": "b9addae5",
   "metadata": {},
   "outputs": [
    {
     "data": {
      "text/plain": [
       "(15119, 32)"
      ]
     },
     "execution_count": 37,
     "metadata": {},
     "output_type": "execute_result"
    }
   ],
   "source": [
    "test_predictions_decoded = tf_keras_backend.get_value(tf_keras_backend.ctc_decode(test_predictions_encoded,\n",
    "                                                                                  input_length = np.ones(test_predictions_encoded.shape[0])*test_predictions_encoded.shape[1],\n",
    "                                                                                  greedy=True)[0][0])\n",
    "test_predictions_decoded.shape"
   ]
  },
  {
   "cell_type": "code",
   "execution_count": 38,
   "id": "26d7cb76",
   "metadata": {},
   "outputs": [],
   "source": [
    "def numbered_array_to_text(numbered_array):\n",
    "    numbered_array = numbered_array[numbered_array != -1]\n",
    "    return \"\".join(letters[i] for i in numbered_array)"
   ]
  },
  {
   "cell_type": "code",
   "execution_count": 40,
   "id": "55ac976d",
   "metadata": {},
   "outputs": [
    {
     "name": "stdout",
     "output_type": "stream",
     "text": [
      "original_text =  After\n",
      "predicted text =  fAfter\n",
      "\n",
      "original_text =  much\n",
      "predicted text =  much\n",
      "\n",
      "original_text =  bargaining\n",
      "predicted text =  Gbargaining\n",
      "\n",
      "original_text =  the\n",
      "predicted text =  Sthe\n",
      "\n",
      "original_text =  British\n",
      "predicted text =  British\n",
      "\n",
      "original_text =  Government\n",
      "predicted text =  Government\n",
      "\n",
      "original_text =  has\n",
      "predicted text =  has\n",
      "\n",
      "original_text =  agreed\n",
      "predicted text =  Gagreed\n",
      "\n",
      "original_text =  to\n",
      "predicted text =  Sto\n",
      "\n",
      "original_text =  give\n",
      "predicted text =  give\n",
      "\n",
      "original_text =  similar\n",
      "predicted text =  similar\n",
      "\n",
      "original_text =  \"\n",
      "predicted text =  Ti\"n\n",
      "\n",
      "original_text =  facilities\n",
      "predicted text =  facilities\n",
      "\n",
      "original_text =  \"\n",
      "predicted text =  T\"\n",
      "\n",
      "original_text =  The\n",
      "predicted text =  The\n",
      "\n",
      "original_text =  process\n",
      "predicted text =  process\n",
      "\n",
      "original_text =  has\n",
      "predicted text =  has\n",
      "\n",
      "original_text =  been\n",
      "predicted text =  been\n",
      "\n",
      "original_text =  too\n",
      "predicted text =  Ttoo\n",
      "\n",
      "original_text =  slow\n",
      "predicted text =  slow\n",
      "\n",
      "original_text =  for\n",
      "predicted text =  fGfor\n",
      "\n",
      "original_text =  Herr\n",
      "predicted text =  Herr\n",
      "\n",
      "original_text =  Strauss\n",
      "predicted text =  Strauss\n",
      "\n",
      "original_text =  and\n",
      "predicted text =  and\n",
      "\n",
      "original_text =  last\n",
      "predicted text =  flast\n",
      "\n",
      "original_text =  month\n",
      "predicted text =  month\n",
      "\n",
      "original_text =  he\n",
      "predicted text =  She\n",
      "\n",
      "original_text =  attacked\n",
      "predicted text =  attacked\n",
      "\n",
      "original_text =  Britain\n",
      "predicted text =  Britain\n",
      "\n",
      "original_text =  for\n",
      "predicted text =  Gfor\n",
      "\n",
      "original_text =  being\n",
      "predicted text =  being\n",
      "\n",
      "original_text =  an\n",
      "predicted text =  an\n",
      "\n",
      "original_text =  obstacle\n",
      "predicted text =  6dobstacdle\n",
      "\n",
      "original_text =  for\n",
      "predicted text =  for\n",
      "\n",
      "original_text =  West\n",
      "predicted text =  West\n",
      "\n",
      "original_text =  Germany's\n",
      "predicted text =  Germanss\n",
      "\n",
      "original_text =  plans\n",
      "predicted text =  plans\n",
      "\n",
      "original_text =  for\n",
      "predicted text =  for\n",
      "\n",
      "original_text =  a\n",
      "predicted text =  as\n",
      "\n",
      "original_text =  \"\n",
      "predicted text =  GI\"\n",
      "\n",
      "original_text =  unified\n",
      "predicted text =  durified\n",
      "\n",
      "original_text =  supply\n",
      "predicted text =  supply\n",
      "\n",
      "original_text =  apparatus\n",
      "predicted text =  apparateus\n",
      "\n",
      "original_text =  \"\n",
      "predicted text =  G21\n",
      "\n",
      "original_text =  in\n",
      "predicted text =  zhin\n",
      "\n",
      "original_text =  Nato\n",
      "predicted text =  dNato\n",
      "\n",
      "original_text =  .\n",
      "predicted text =  SG.\n",
      "\n",
      "original_text =  (\n",
      "predicted text =  I,\n",
      "\n",
      "original_text =  A\n",
      "predicted text =  A\n",
      "\n",
      "original_text =  supply\n",
      "predicted text =  supply\n",
      "\n",
      "original_text =  apparatus\n",
      "predicted text =  apparatus\n",
      "\n",
      "original_text =  which\n",
      "predicted text =  which\n",
      "\n",
      "original_text =  would\n",
      "predicted text =  would\n",
      "\n",
      "original_text =  link\n",
      "predicted text =  hlink\n",
      "\n",
      "original_text =  together\n",
      "predicted text =  Ttogether\n",
      "\n",
      "original_text =  the\n",
      "predicted text =  the\n",
      "\n",
      "original_text =  various\n",
      "predicted text =  various\n",
      "\n",
      "original_text =  West\n",
      "predicted text =  West\n",
      "\n",
      "original_text =  German\n",
      "predicted text =  German\n",
      "\n",
      "original_text =  \"\n",
      "predicted text =  G\"\n",
      "\n",
      "original_text =  facilities\n",
      "predicted text =  facilities\n",
      "\n",
      "original_text =  .\n",
      "predicted text =  S!.\n",
      "\n",
      "original_text =  \"\n",
      "predicted text =  W,\n",
      "\n",
      "original_text =  )\n",
      "predicted text =  GI)\n",
      "\n",
      "original_text =  By\n",
      "predicted text =  By\n",
      "\n",
      "original_text =  the\n",
      "predicted text =  Tthe\n",
      "\n",
      "original_text =  end\n",
      "predicted text =  kend\n",
      "\n",
      "original_text =  of\n",
      "predicted text =  fof\n",
      "\n",
      "original_text =  the\n",
      "predicted text =  the\n",
      "\n",
      "original_text =  year\n",
      "predicted text =  Yyear\n",
      "\n",
      "original_text =  there\n",
      "predicted text =  there\n",
      "\n",
      "original_text =  will\n",
      "predicted text =  Wwill\n",
      "\n",
      "original_text =  be\n",
      "predicted text =  be\n",
      "\n",
      "original_text =  11\n",
      "predicted text =  I11\n",
      "\n",
      "original_text =  German\n",
      "predicted text =  German\n",
      "\n",
      "original_text =  divisions\n",
      "predicted text =  divisions\n",
      "\n",
      "original_text =  in\n",
      "predicted text =  zin\n",
      "\n",
      "original_text =  Nato\n",
      "predicted text =  WNato\n",
      "\n",
      "original_text =  compared\n",
      "predicted text =  Gcompared\n",
      "\n",
      "original_text =  with\n",
      "predicted text =  with\n",
      "\n",
      "original_text =  four\n",
      "predicted text =  four\n",
      "\n",
      "original_text =  divisions\n",
      "predicted text =  divisions\n",
      "\n",
      "original_text =  of\n",
      "predicted text =  fof\n",
      "\n",
      "original_text =  British\n",
      "predicted text =  British\n",
      "\n",
      "original_text =  troops\n",
      "predicted text =  troops\n",
      "\n",
      "original_text =  .\n",
      "predicted text =  SG.\n",
      "\n",
      "original_text =  Alongside\n",
      "predicted text =  dAlongside\n",
      "\n",
      "original_text =  these\n",
      "predicted text =  Tthese\n",
      "\n",
      "original_text =  divisions\n",
      "predicted text =  divisions\n",
      "\n",
      "original_text =  a\n",
      "predicted text =  a\n",
      "\n",
      "original_text =  force\n",
      "predicted text =  force\n",
      "\n",
      "original_text =  of\n",
      "predicted text =  of\n",
      "\n",
      "original_text =  over\n",
      "predicted text =  Gover\n",
      "\n",
      "original_text =  600\n",
      "predicted text =  60o\n",
      "\n",
      "original_text =  Starfighters\n",
      "predicted text =  Starfighters\n",
      "\n",
      "original_text =  provided\n",
      "predicted text =  provided\n",
      "\n",
      "original_text =  by\n",
      "predicted text =  by\n",
      "\n",
      "original_text =  the\n",
      "predicted text =  the\n",
      "\n",
      "original_text =  Americans\n",
      "predicted text =  GAmericans\n",
      "\n",
      "original_text =  is\n",
      "predicted text =  Sis\n",
      "\n"
     ]
    }
   ],
   "source": [
    "for i in range(100):\n",
    "    print(\"original_text = \", original_test_texts[i])\n",
    "    print(\"predicted text = \", numbered_array_to_text(test_predictions_decoded[i]))\n",
    "    print()"
   ]
  },
  {
   "cell_type": "code",
   "execution_count": null,
   "id": "2db0b11a",
   "metadata": {},
   "outputs": [],
   "source": []
  }
 ],
 "metadata": {
  "kernelspec": {
   "display_name": "Python 3 (ipykernel)",
   "language": "python",
   "name": "python3"
  },
  "language_info": {
   "codemirror_mode": {
    "name": "ipython",
    "version": 3
   },
   "file_extension": ".py",
   "mimetype": "text/x-python",
   "name": "python",
   "nbconvert_exporter": "python",
   "pygments_lexer": "ipython3",
   "version": "3.10.5"
  }
 },
 "nbformat": 4,
 "nbformat_minor": 5
}
